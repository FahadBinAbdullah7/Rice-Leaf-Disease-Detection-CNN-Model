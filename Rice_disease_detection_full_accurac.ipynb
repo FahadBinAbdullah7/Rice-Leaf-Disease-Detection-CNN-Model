{
  "cells": [
    {
      "cell_type": "code",
      "execution_count": null,
      "metadata": {
        "colab": {
          "base_uri": "https://localhost:8080/"
        },
        "id": "DsAI9sgPcXvP",
        "outputId": "ccf94fac-4fb1-48d1-e980-3a61bbee8879"
      },
      "outputs": [
        {
          "output_type": "stream",
          "name": "stdout",
          "text": [
            "Requirement already satisfied: tensorflow in /usr/local/lib/python3.10/dist-packages (2.12.0)\n",
            "Requirement already satisfied: absl-py>=1.0.0 in /usr/local/lib/python3.10/dist-packages (from tensorflow) (1.4.0)\n",
            "Requirement already satisfied: astunparse>=1.6.0 in /usr/local/lib/python3.10/dist-packages (from tensorflow) (1.6.3)\n",
            "Requirement already satisfied: flatbuffers>=2.0 in /usr/local/lib/python3.10/dist-packages (from tensorflow) (23.5.26)\n",
            "Requirement already satisfied: gast<=0.4.0,>=0.2.1 in /usr/local/lib/python3.10/dist-packages (from tensorflow) (0.4.0)\n",
            "Requirement already satisfied: google-pasta>=0.1.1 in /usr/local/lib/python3.10/dist-packages (from tensorflow) (0.2.0)\n",
            "Requirement already satisfied: grpcio<2.0,>=1.24.3 in /usr/local/lib/python3.10/dist-packages (from tensorflow) (1.56.0)\n",
            "Requirement already satisfied: h5py>=2.9.0 in /usr/local/lib/python3.10/dist-packages (from tensorflow) (3.8.0)\n",
            "Requirement already satisfied: jax>=0.3.15 in /usr/local/lib/python3.10/dist-packages (from tensorflow) (0.4.13)\n",
            "Requirement already satisfied: keras<2.13,>=2.12.0 in /usr/local/lib/python3.10/dist-packages (from tensorflow) (2.12.0)\n",
            "Requirement already satisfied: libclang>=13.0.0 in /usr/local/lib/python3.10/dist-packages (from tensorflow) (16.0.6)\n",
            "Requirement already satisfied: numpy<1.24,>=1.22 in /usr/local/lib/python3.10/dist-packages (from tensorflow) (1.22.4)\n",
            "Requirement already satisfied: opt-einsum>=2.3.2 in /usr/local/lib/python3.10/dist-packages (from tensorflow) (3.3.0)\n",
            "Requirement already satisfied: packaging in /usr/local/lib/python3.10/dist-packages (from tensorflow) (23.1)\n",
            "Requirement already satisfied: protobuf!=4.21.0,!=4.21.1,!=4.21.2,!=4.21.3,!=4.21.4,!=4.21.5,<5.0.0dev,>=3.20.3 in /usr/local/lib/python3.10/dist-packages (from tensorflow) (3.20.3)\n",
            "Requirement already satisfied: setuptools in /usr/local/lib/python3.10/dist-packages (from tensorflow) (67.7.2)\n",
            "Requirement already satisfied: six>=1.12.0 in /usr/local/lib/python3.10/dist-packages (from tensorflow) (1.16.0)\n",
            "Requirement already satisfied: tensorboard<2.13,>=2.12 in /usr/local/lib/python3.10/dist-packages (from tensorflow) (2.12.3)\n",
            "Requirement already satisfied: tensorflow-estimator<2.13,>=2.12.0 in /usr/local/lib/python3.10/dist-packages (from tensorflow) (2.12.0)\n",
            "Requirement already satisfied: termcolor>=1.1.0 in /usr/local/lib/python3.10/dist-packages (from tensorflow) (2.3.0)\n",
            "Requirement already satisfied: typing-extensions>=3.6.6 in /usr/local/lib/python3.10/dist-packages (from tensorflow) (4.7.1)\n",
            "Requirement already satisfied: wrapt<1.15,>=1.11.0 in /usr/local/lib/python3.10/dist-packages (from tensorflow) (1.14.1)\n",
            "Requirement already satisfied: tensorflow-io-gcs-filesystem>=0.23.1 in /usr/local/lib/python3.10/dist-packages (from tensorflow) (0.32.0)\n",
            "Requirement already satisfied: wheel<1.0,>=0.23.0 in /usr/local/lib/python3.10/dist-packages (from astunparse>=1.6.0->tensorflow) (0.40.0)\n",
            "Requirement already satisfied: ml-dtypes>=0.1.0 in /usr/local/lib/python3.10/dist-packages (from jax>=0.3.15->tensorflow) (0.2.0)\n",
            "Requirement already satisfied: scipy>=1.7 in /usr/local/lib/python3.10/dist-packages (from jax>=0.3.15->tensorflow) (1.10.1)\n",
            "Requirement already satisfied: google-auth<3,>=1.6.3 in /usr/local/lib/python3.10/dist-packages (from tensorboard<2.13,>=2.12->tensorflow) (2.17.3)\n",
            "Requirement already satisfied: google-auth-oauthlib<1.1,>=0.5 in /usr/local/lib/python3.10/dist-packages (from tensorboard<2.13,>=2.12->tensorflow) (1.0.0)\n",
            "Requirement already satisfied: markdown>=2.6.8 in /usr/local/lib/python3.10/dist-packages (from tensorboard<2.13,>=2.12->tensorflow) (3.4.3)\n",
            "Requirement already satisfied: requests<3,>=2.21.0 in /usr/local/lib/python3.10/dist-packages (from tensorboard<2.13,>=2.12->tensorflow) (2.27.1)\n",
            "Requirement already satisfied: tensorboard-data-server<0.8.0,>=0.7.0 in /usr/local/lib/python3.10/dist-packages (from tensorboard<2.13,>=2.12->tensorflow) (0.7.1)\n",
            "Requirement already satisfied: werkzeug>=1.0.1 in /usr/local/lib/python3.10/dist-packages (from tensorboard<2.13,>=2.12->tensorflow) (2.3.6)\n",
            "Requirement already satisfied: cachetools<6.0,>=2.0.0 in /usr/local/lib/python3.10/dist-packages (from google-auth<3,>=1.6.3->tensorboard<2.13,>=2.12->tensorflow) (5.3.1)\n",
            "Requirement already satisfied: pyasn1-modules>=0.2.1 in /usr/local/lib/python3.10/dist-packages (from google-auth<3,>=1.6.3->tensorboard<2.13,>=2.12->tensorflow) (0.3.0)\n",
            "Requirement already satisfied: rsa<5,>=3.1.4 in /usr/local/lib/python3.10/dist-packages (from google-auth<3,>=1.6.3->tensorboard<2.13,>=2.12->tensorflow) (4.9)\n",
            "Requirement already satisfied: requests-oauthlib>=0.7.0 in /usr/local/lib/python3.10/dist-packages (from google-auth-oauthlib<1.1,>=0.5->tensorboard<2.13,>=2.12->tensorflow) (1.3.1)\n",
            "Requirement already satisfied: urllib3<1.27,>=1.21.1 in /usr/local/lib/python3.10/dist-packages (from requests<3,>=2.21.0->tensorboard<2.13,>=2.12->tensorflow) (1.26.16)\n",
            "Requirement already satisfied: certifi>=2017.4.17 in /usr/local/lib/python3.10/dist-packages (from requests<3,>=2.21.0->tensorboard<2.13,>=2.12->tensorflow) (2023.5.7)\n",
            "Requirement already satisfied: charset-normalizer~=2.0.0 in /usr/local/lib/python3.10/dist-packages (from requests<3,>=2.21.0->tensorboard<2.13,>=2.12->tensorflow) (2.0.12)\n",
            "Requirement already satisfied: idna<4,>=2.5 in /usr/local/lib/python3.10/dist-packages (from requests<3,>=2.21.0->tensorboard<2.13,>=2.12->tensorflow) (3.4)\n",
            "Requirement already satisfied: MarkupSafe>=2.1.1 in /usr/local/lib/python3.10/dist-packages (from werkzeug>=1.0.1->tensorboard<2.13,>=2.12->tensorflow) (2.1.3)\n",
            "Requirement already satisfied: pyasn1<0.6.0,>=0.4.6 in /usr/local/lib/python3.10/dist-packages (from pyasn1-modules>=0.2.1->google-auth<3,>=1.6.3->tensorboard<2.13,>=2.12->tensorflow) (0.5.0)\n",
            "Requirement already satisfied: oauthlib>=3.0.0 in /usr/local/lib/python3.10/dist-packages (from requests-oauthlib>=0.7.0->google-auth-oauthlib<1.1,>=0.5->tensorboard<2.13,>=2.12->tensorflow) (3.2.2)\n",
            "Requirement already satisfied: keras in /usr/local/lib/python3.10/dist-packages (2.12.0)\n",
            "Requirement already satisfied: numpy in /usr/local/lib/python3.10/dist-packages (1.22.4)\n",
            "Requirement already satisfied: scikit-learn in /usr/local/lib/python3.10/dist-packages (1.2.2)\n",
            "Requirement already satisfied: numpy>=1.17.3 in /usr/local/lib/python3.10/dist-packages (from scikit-learn) (1.22.4)\n",
            "Requirement already satisfied: scipy>=1.3.2 in /usr/local/lib/python3.10/dist-packages (from scikit-learn) (1.10.1)\n",
            "Requirement already satisfied: joblib>=1.1.1 in /usr/local/lib/python3.10/dist-packages (from scikit-learn) (1.3.1)\n",
            "Requirement already satisfied: threadpoolctl>=2.0.0 in /usr/local/lib/python3.10/dist-packages (from scikit-learn) (3.2.0)\n",
            "Requirement already satisfied: flask in /usr/local/lib/python3.10/dist-packages (2.2.5)\n",
            "Requirement already satisfied: Werkzeug>=2.2.2 in /usr/local/lib/python3.10/dist-packages (from flask) (2.3.6)\n",
            "Requirement already satisfied: Jinja2>=3.0 in /usr/local/lib/python3.10/dist-packages (from flask) (3.1.2)\n",
            "Requirement already satisfied: itsdangerous>=2.0 in /usr/local/lib/python3.10/dist-packages (from flask) (2.1.2)\n",
            "Requirement already satisfied: click>=8.0 in /usr/local/lib/python3.10/dist-packages (from flask) (8.1.6)\n",
            "Requirement already satisfied: MarkupSafe>=2.0 in /usr/local/lib/python3.10/dist-packages (from Jinja2>=3.0->flask) (2.1.3)\n"
          ]
        }
      ],
      "source": [
        "!pip install tensorflow\n",
        "!pip install keras\n",
        "!pip install numpy\n",
        "!pip install scikit-learn\n",
        "!pip install flask"
      ]
    },
    {
      "cell_type": "code",
      "execution_count": null,
      "metadata": {
        "colab": {
          "base_uri": "https://localhost:8080/"
        },
        "id": "zh0KOdTRcp9p",
        "outputId": "9663e8d6-cae8-41fb-a91f-9cd35365929d"
      },
      "outputs": [
        {
          "output_type": "stream",
          "name": "stdout",
          "text": [
            "Mounted at /content/drive\n"
          ]
        }
      ],
      "source": [
        "from google.colab import drive\n",
        "drive.mount('/content/drive')"
      ]
    },
    {
      "cell_type": "code",
      "execution_count": null,
      "metadata": {
        "colab": {
          "base_uri": "https://localhost:8080/"
        },
        "id": "4JFTwht4nMOd",
        "outputId": "1e55b531-af63-4944-932f-efbc03bc4db4"
      },
      "outputs": [
        {
          "output_type": "stream",
          "name": "stdout",
          "text": [
            "Found 4754 images belonging to 4 classes.\n",
            "Found 1185 images belonging to 4 classes.\n"
          ]
        }
      ],
      "source": [
        "import os\n",
        "import random\n",
        "import tensorflow as tf\n",
        "from keras.preprocessing.image import ImageDataGenerator\n",
        "\n",
        "#Inceptionnet\n",
        "\n",
        "\n",
        "# Set the path to your dataset folder\n",
        "dataset_dir = '/content/drive/MyDrive/Colab Notebooks/Alal/Rice Leaf Disease Images'\n",
        "\n",
        "# Define the split ratio\n",
        "train_ratio = 0.8\n",
        "test_ratio = 0.2\n",
        "\n",
        "# Create the train and test directories\n",
        "train_dir = os.path.join(dataset_dir, 'train')\n",
        "test_dir = os.path.join(dataset_dir, 'test')\n",
        "\n",
        "# Step 1: Data Preparation\n",
        "# Define data generator with data augmentation and normalization\n",
        "datagen = ImageDataGenerator(\n",
        "    rescale=1./255,\n",
        "    rotation_range=20,\n",
        "    zoom_range=0.2,\n",
        "    horizontal_flip=True,\n",
        "    validation_split=1 - train_ratio  # Use the remaining ratio for validation\n",
        ")\n",
        "\n",
        "# Generate training and testing datasets from the dataset directory\n",
        "dataset_generator = datagen.flow_from_directory(\n",
        "    dataset_dir,\n",
        "    target_size=(224, 224),\n",
        "    batch_size=32,\n",
        "    class_mode='categorical',\n",
        "    subset='training'\n",
        ")\n",
        "\n",
        "test_generator = datagen.flow_from_directory(\n",
        "    dataset_dir,\n",
        "    target_size=(224, 224),\n",
        "    batch_size=32,\n",
        "    class_mode='categorical',\n",
        "    subset='validation'\n",
        ")"
      ]
    },
    {
      "cell_type": "code",
      "execution_count": null,
      "metadata": {
        "colab": {
          "base_uri": "https://localhost:8080/"
        },
        "id": "QqNIJhqadRaj",
        "outputId": "b60dab87-687b-4f32-ebae-80ee44fad02d"
      },
      "outputs": [
        {
          "output_type": "stream",
          "name": "stdout",
          "text": [
            "Found 4754 images belonging to 4 classes.\n",
            "Found 1185 images belonging to 4 classes.\n",
            "Downloading data from https://storage.googleapis.com/tensorflow/keras-applications/inception_v3/inception_v3_weights_tf_dim_ordering_tf_kernels_notop.h5\n",
            "87910968/87910968 [==============================] - 1s 0us/step\n",
            "Epoch 1/35\n",
            "149/149 [==============================] - 1233s 8s/step - loss: 2.0866 - accuracy: 0.8902 - val_loss: 2.0145 - val_accuracy: 0.9249 - lr: 0.0010\n",
            "Epoch 2/35\n",
            "149/149 [==============================] - 100s 673ms/step - loss: 0.3056 - accuracy: 0.9504 - val_loss: 1.2503 - val_accuracy: 0.7468 - lr: 0.0010\n",
            "Epoch 3/35\n",
            "149/149 [==============================] - 99s 664ms/step - loss: 0.1547 - accuracy: 0.9697 - val_loss: 0.2379 - val_accuracy: 0.9586 - lr: 0.0010\n",
            "Epoch 4/35\n",
            "149/149 [==============================] - 104s 697ms/step - loss: 0.1048 - accuracy: 0.9809 - val_loss: 0.1282 - val_accuracy: 0.9654 - lr: 0.0010\n",
            "Epoch 5/35\n",
            "149/149 [==============================] - 99s 661ms/step - loss: 0.1271 - accuracy: 0.9735 - val_loss: 0.6154 - val_accuracy: 0.8970 - lr: 0.0010\n",
            "Epoch 6/35\n",
            "149/149 [==============================] - 101s 680ms/step - loss: 0.0803 - accuracy: 0.9842 - val_loss: 0.2628 - val_accuracy: 0.9418 - lr: 0.0010\n",
            "Epoch 7/35\n",
            "149/149 [==============================] - 101s 677ms/step - loss: 0.0804 - accuracy: 0.9846 - val_loss: 0.5581 - val_accuracy: 0.9148 - lr: 0.0010\n",
            "Epoch 8/35\n",
            "149/149 [==============================] - 98s 660ms/step - loss: 0.0424 - accuracy: 0.9935 - val_loss: 0.0212 - val_accuracy: 0.9983 - lr: 5.0000e-04\n",
            "Epoch 9/35\n",
            "149/149 [==============================] - 100s 673ms/step - loss: 0.0252 - accuracy: 0.9987 - val_loss: 0.0177 - val_accuracy: 1.0000 - lr: 5.0000e-04\n",
            "Epoch 10/35\n",
            "149/149 [==============================] - 102s 681ms/step - loss: 0.0134 - accuracy: 1.0000 - val_loss: 0.0093 - val_accuracy: 1.0000 - lr: 5.0000e-04\n",
            "Epoch 11/35\n",
            "149/149 [==============================] - 101s 679ms/step - loss: 0.0145 - accuracy: 0.9994 - val_loss: 0.0127 - val_accuracy: 1.0000 - lr: 5.0000e-04\n",
            "Epoch 12/35\n",
            "149/149 [==============================] - 99s 666ms/step - loss: 0.0127 - accuracy: 0.9994 - val_loss: 0.0119 - val_accuracy: 1.0000 - lr: 5.0000e-04\n",
            "Epoch 13/35\n",
            "149/149 [==============================] - 102s 685ms/step - loss: 0.0361 - accuracy: 0.9971 - val_loss: 0.0151 - val_accuracy: 1.0000 - lr: 5.0000e-04\n",
            "Epoch 14/35\n",
            "149/149 [==============================] - 99s 665ms/step - loss: 0.0148 - accuracy: 0.9985 - val_loss: 0.0082 - val_accuracy: 1.0000 - lr: 2.5000e-04\n",
            "Epoch 15/35\n",
            "149/149 [==============================] - 100s 672ms/step - loss: 0.0306 - accuracy: 0.9968 - val_loss: 0.0234 - val_accuracy: 1.0000 - lr: 2.5000e-04\n",
            "Epoch 16/35\n",
            "149/149 [==============================] - 98s 657ms/step - loss: 0.0168 - accuracy: 0.9992 - val_loss: 0.0136 - val_accuracy: 0.9992 - lr: 2.5000e-04\n",
            "Epoch 17/35\n",
            "149/149 [==============================] - 103s 688ms/step - loss: 0.0099 - accuracy: 0.9998 - val_loss: 0.0068 - val_accuracy: 1.0000 - lr: 2.5000e-04\n",
            "Epoch 18/35\n",
            "149/149 [==============================] - 99s 663ms/step - loss: 0.0094 - accuracy: 0.9996 - val_loss: 0.0064 - val_accuracy: 1.0000 - lr: 2.5000e-04\n",
            "Epoch 19/35\n",
            "149/149 [==============================] - 102s 684ms/step - loss: 0.0073 - accuracy: 0.9996 - val_loss: 0.0054 - val_accuracy: 1.0000 - lr: 2.5000e-04\n",
            "Epoch 20/35\n",
            "149/149 [==============================] - 100s 670ms/step - loss: 0.0062 - accuracy: 0.9998 - val_loss: 0.0055 - val_accuracy: 1.0000 - lr: 2.5000e-04\n",
            "Epoch 21/35\n",
            "149/149 [==============================] - 98s 659ms/step - loss: 0.0115 - accuracy: 0.9989 - val_loss: 0.0294 - val_accuracy: 0.9941 - lr: 2.5000e-04\n",
            "Epoch 22/35\n",
            "149/149 [==============================] - 99s 666ms/step - loss: 0.0115 - accuracy: 0.9996 - val_loss: 0.0069 - val_accuracy: 1.0000 - lr: 2.5000e-04\n",
            "Epoch 23/35\n",
            "149/149 [==============================] - 102s 686ms/step - loss: 0.0135 - accuracy: 0.9981 - val_loss: 0.0326 - val_accuracy: 0.9941 - lr: 1.2500e-04\n",
            "Epoch 24/35\n",
            "149/149 [==============================] - 99s 661ms/step - loss: 0.0133 - accuracy: 0.9989 - val_loss: 0.0068 - val_accuracy: 1.0000 - lr: 1.2500e-04\n",
            "Epoch 25/35\n",
            "149/149 [==============================] - 100s 670ms/step - loss: 0.0064 - accuracy: 1.0000 - val_loss: 0.0052 - val_accuracy: 1.0000 - lr: 1.2500e-04\n",
            "Epoch 26/35\n",
            "149/149 [==============================] - 98s 658ms/step - loss: 0.0191 - accuracy: 0.9981 - val_loss: 0.0154 - val_accuracy: 1.0000 - lr: 1.2500e-04\n",
            "Epoch 27/35\n",
            "149/149 [==============================] - 96s 642ms/step - loss: 0.0151 - accuracy: 0.9992 - val_loss: 0.0112 - val_accuracy: 1.0000 - lr: 1.2500e-04\n",
            "Epoch 28/35\n",
            "149/149 [==============================] - 99s 667ms/step - loss: 0.0079 - accuracy: 0.9998 - val_loss: 0.0061 - val_accuracy: 1.0000 - lr: 1.2500e-04\n",
            "Epoch 29/35\n",
            "149/149 [==============================] - 99s 663ms/step - loss: 0.0089 - accuracy: 0.9994 - val_loss: 0.0061 - val_accuracy: 1.0000 - lr: 6.2500e-05\n",
            "Epoch 30/35\n",
            "149/149 [==============================] - 101s 679ms/step - loss: 0.0057 - accuracy: 1.0000 - val_loss: 0.0051 - val_accuracy: 1.0000 - lr: 6.2500e-05\n",
            "Epoch 31/35\n",
            "149/149 [==============================] - 100s 671ms/step - loss: 0.0070 - accuracy: 0.9996 - val_loss: 0.0104 - val_accuracy: 1.0000 - lr: 6.2500e-05\n",
            "Epoch 32/35\n",
            "149/149 [==============================] - 102s 682ms/step - loss: 0.0069 - accuracy: 0.9996 - val_loss: 0.0052 - val_accuracy: 1.0000 - lr: 3.1250e-05\n",
            "Epoch 33/35\n",
            "149/149 [==============================] - 102s 684ms/step - loss: 0.0063 - accuracy: 0.9998 - val_loss: 0.0047 - val_accuracy: 1.0000 - lr: 3.1250e-05\n",
            "Epoch 34/35\n",
            "149/149 [==============================] - 97s 651ms/step - loss: 0.0056 - accuracy: 0.9998 - val_loss: 0.0046 - val_accuracy: 1.0000 - lr: 3.1250e-05\n",
            "Epoch 35/35\n",
            "149/149 [==============================] - 98s 656ms/step - loss: 0.0050 - accuracy: 1.0000 - val_loss: 0.0043 - val_accuracy: 1.0000 - lr: 3.1250e-05\n",
            "149/149 [==============================] - 72s 480ms/step - loss: 0.0043 - accuracy: 1.0000\n",
            "38/38 [==============================] - 17s 456ms/step - loss: 0.0044 - accuracy: 1.0000\n",
            "Train loss:0.004268173594027758\n",
            "Train accuracy:1.0\n",
            "Test loss: 0.004353030119091272\n",
            "Test accuracy: 1.0\n"
          ]
        }
      ],
      "source": [
        "#Inceptionnet\n",
        "\n",
        "\n",
        "# Set the path to your dataset folder\n",
        "dataset_dir = '/content/drive/MyDrive/Colab Notebooks/Alal/Rice Leaf Disease Images'\n",
        "\n",
        "# Define the split ratio\n",
        "train_ratio = 0.8\n",
        "test_ratio = 0.2\n",
        "\n",
        "# Create the train and test directories\n",
        "train_dir = os.path.join(dataset_dir, 'train')\n",
        "test_dir = os.path.join(dataset_dir, 'test')\n",
        "\n",
        "# Step 1: Data Preparation\n",
        "# Define data generator with data augmentation and normalization\n",
        "datagen = ImageDataGenerator(\n",
        "    rescale=1./255,\n",
        "    rotation_range=20,\n",
        "    zoom_range=0.2,\n",
        "    horizontal_flip=True,\n",
        "    validation_split=1 - train_ratio  # Use the remaining ratio for validation\n",
        ")\n",
        "\n",
        "# Generate training and testing datasets from the dataset directory\n",
        "dataset_generator = datagen.flow_from_directory(\n",
        "    dataset_dir,\n",
        "    target_size=(224, 224),\n",
        "    batch_size=32,\n",
        "    class_mode='categorical',\n",
        "    subset='training'\n",
        ")\n",
        "\n",
        "test_generator = datagen.flow_from_directory(\n",
        "    dataset_dir,\n",
        "    target_size=(224, 224),\n",
        "    batch_size=32,\n",
        "    class_mode='categorical',\n",
        "    subset='validation'\n",
        ")\n",
        "\n",
        "# Step 2: Model Architecture\n",
        "from keras import regularizers\n",
        "from keras.applications import InceptionV3\n",
        "\n",
        "model = tf.keras.Sequential([\n",
        "    InceptionV3(input_shape=(224, 224, 3), include_top=False, weights='imagenet'),\n",
        "    tf.keras.layers.GlobalAveragePooling2D(),\n",
        "    tf.keras.layers.Dropout(0.5),  # Dropout layer for regularization\n",
        "    tf.keras.layers.Dense(256, activation='relu', kernel_regularizer=regularizers.l2(0.01)),  # L2 regularization\n",
        "    tf.keras.layers.Dense(dataset_generator.num_classes, activation='softmax')\n",
        "])\n",
        "\n",
        "\n",
        "\n",
        "# Step 3: Model Compilation\n",
        "model.compile(optimizer='adam',\n",
        "              loss='categorical_crossentropy',\n",
        "              metrics=['accuracy'])\n",
        "\n",
        "# Step 4: Model Training\n",
        "#from keras.callbacks import EarlyStopping\n",
        "from keras.callbacks import ReduceLROnPlateau\n",
        " #Create a learning rate scheduler\n",
        "lr_scheduler = ReduceLROnPlateau(factor=0.5, patience=3, min_lr=1e-6)\n",
        "#early_stopping = EarlyStopping(patience=5, restore_best_weights=True)\n",
        "history= model.fit (dataset_generator,\n",
        "    epochs=35,\n",
        "    validation_data=test_generator,\n",
        "    callbacks=[lr_scheduler])\n",
        "   #callbacks=[early_stopping]\n",
        "\n",
        "\n",
        "# Step 5: Model Evaluation\n",
        "train_loss,train_accuracy = model.evaluate(dataset_generator)\n",
        "test_loss, test_accuracy = model.evaluate(test_generator)\n",
        "print(f'Train loss:{train_loss}')\n",
        "print(f'Train accuracy:{train_accuracy}')\n",
        "print(f'Test loss: {test_loss}')\n",
        "print(f'Test accuracy: {test_accuracy}')"
      ]
    },
    {
      "cell_type": "code",
      "execution_count": null,
      "metadata": {
        "id": "qOGE0t0mdkMS"
      },
      "outputs": [],
      "source": [
        "# Step 6: Model Prediction\n",
        "# Use the trained model to predict on new unseen images\n",
        "model.save('/content/drive/MyDrive/Colab Notebooks/Alal/RayhanM_model.h5')\n",
        "import tensorflow as tf\n",
        "# Load the trained model\n",
        "loaded_model = tf.keras.models.load_model('/content/drive/MyDrive/Colab Notebooks/Alal/Rayhan_model.h5')"
      ]
    },
    {
      "cell_type": "code",
      "execution_count": null,
      "metadata": {
        "colab": {
          "base_uri": "https://localhost:8080/",
          "height": 184
        },
        "id": "koHHQD48Pfpj",
        "outputId": "659239e3-7d92-4895-f937-493d4c267a11"
      },
      "outputs": [
        {
          "output_type": "display_data",
          "data": {
            "text/plain": [
              "<Figure size 1200x600 with 2 Axes>"
            ],
            "image/png": "[encoded data removed]"
          },
          "metadata": {}
        }
      ],
      "source": [
        "\n",
        "#Plotting the curves for accuracy and loss\n",
        "import matplotlib.pyplot as plt\n",
        "import os\n",
        "import random\n",
        "train_accuracy = history.history['accuracy']\n",
        "val_accuracy = history.history['val_accuracy']\n",
        "train_loss = history.history['loss']\n",
        "val_loss = history.history['val_loss']\n",
        "epochs = range(1, len(train_accuracy) + 1)\n",
        "\n",
        "plt.figure(figsize=(12, 6))\n",
        "\n",
        "# Plotting the accuracy curve\n",
        "plt.subplot(1, 2, 1)\n",
        "plt.plot(epochs, train_accuracy, 'b', label='Training Accuracy')\n",
        "plt.plot(epochs, val_accuracy, 'r', label='Validation Accuracy')\n",
        "plt.title('Training and Validation Accuracy')\n",
        "plt.xlabel('Epochs')\n",
        "plt.ylabel('Accuracy')\n",
        "plt.legend()\n",
        "\n",
        "# Plotting the loss curve\n",
        "plt.subplot(1, 2, 2)\n",
        "plt.plot(epochs, train_loss, 'b', label='Training Loss')\n",
        "plt.plot(epochs, val_loss, 'r', label='Validation Loss')\n",
        "plt.title('Training and Validation Loss')\n",
        "plt.xlabel('Epochs')\n",
        "plt.ylabel('Loss')\n",
        "plt.legend()\n",
        "\n",
        "plt.tight_layout()\n",
        "plt.show()"
      ]
    },
    {
      "cell_type": "code",
      "execution_count": null,
      "metadata": {
        "id": "9TBUr2bTieKI"
      },
      "outputs": [],
      "source": [
        "# Set the path to the image for prediction\n",
        "image_path = '/content/drive/MyDrive/Colab Notebooks/Alal/Uuu/Symptoms-of-rice-blast-disease-caused-by-Pyricularia-oryzae.png'\n",
        "\n",
        "# Preprocess the image\n",
        "image = tf.keras.preprocessing.image.load_img(image_path, target_size=(224, 224))\n",
        "image = tf.keras.preprocessing.image.img_to_array(image)\n",
        "image = image / 255.0\n",
        "image = tf.expand_dims(image, axis=0)"
      ]
    },
    {
      "cell_type": "code",
      "execution_count": null,
      "metadata": {
        "colab": {
          "base_uri": "https://localhost:8080/"
        },
        "id": "sWhA8UhEdmt_",
        "outputId": "33504856-f53d-4b54-9c01-5db6722d2664"
      },
      "outputs": [
        {
          "output_type": "stream",
          "name": "stdout",
          "text": [
            "1/1 [==============================] - 0s 33ms/step\n",
            "Predicted class: Blast\n"
          ]
        }
      ],
      "source": [
        "# Make the prediction\n",
        "predictions = loaded_model.predict(image)\n",
        "class_index = tf.argmax(predictions[0])\n",
        "class_labels = list(dataset_generator.class_indices.keys())\n",
        "predicted_class = class_labels[class_index]\n",
        "\n",
        "print(\"Predicted class:\", predicted_class)"
      ]
    }
  ],
  "metadata": {
    "accelerator": "GPU",
    "colab": {
      "provenance": [],
      "gpuType": "T4"
    },
    "kernelspec": {
      "display_name": "Python 3",
      "name": "python3"
    },
    "language_info": {
      "name": "python"
    }
  },
  "nbformat": 4,
  "nbformat_minor": 0
}